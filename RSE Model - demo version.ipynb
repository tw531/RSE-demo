{
 "cells": [
  {
   "cell_type": "markdown",
   "metadata": {},
   "source": [
    "<img align=\"left\" src=\"https://www.cam.ac.uk/sites/www.cam.ac.uk/files/inner-images/logo.jpg\" width=\"300\">"
   ]
  },
  {
   "cell_type": "markdown",
   "metadata": {},
   "source": [
    "## A CITY REGION IN MAKING - DEMO VERSION\n",
    "AUTHOR: DR LI WAN & MS TIANYUAN WANG | UNIVERSITY OF CAMBRIDGE"
   ]
  },
  {
   "cell_type": "markdown",
   "metadata": {},
   "source": [
    "### What is the model?\n",
    "\n",
    "This model is designed to simulate the spatial equilibrium structure in the city.  \n",
    "\n",
    "For simplicity, we assume there are three zones (zone 1, 2, 3) in a city and two groups of employed residents (high income & low income).\n",
    "\n",
    "This online interactive webpage is aimed to let users run the model online. You do not need to download anything and can see model output immediately on the screen. You can save the model setting and the output to your own local device by clicking `Download` button on the top (or, `File` -> `Download`) (Noted the connection to the online server will be cut off if the user stays idle on the page for about 10 minutes).\n",
    "\n",
    "\n",
    "Further information for more advanced model can refer to the published paper including its supplymentary material: <a href=\"https://journals.sagepub.com/doi/10.1177/2399808317732575\" target=\"_blank\"> Wan, L., & Jin, Y. (2019).  Assessment of model validation outcomes of a new recursive spatial equilibrium model for the Greater Beijing </a>.\n",
    "\n",
    "\n",
    "\n",
    "### How to use it?\n",
    "\n",
    "**Change data input:** \n",
    "\n",
    "All model varaibles and parameters can be changed. After the change, simply click the `>>` button (or, `Kernel` -> `Restart Kernel and Run All Cells`), model will restart and new output will be prodcued (note that the old results will lost if not saved).\n",
    "\n",
    "\n",
    "**Read model output:** \n",
    "\n",
    "z1, z2, z3 indicate zone 1, 2, 3 respectively.\n",
    "\n",
    "ER: Employed residents; &nbsp; EW: Employed workers; &nbsp; JobOpp: Job opportunity (a measure of accessibility to jobs) ;&nbsp;  LabCat: Labour catchment (a measure of how far a workplace could attract labour from) ; &nbsp; ACD: Average commuting distance ; &nbsp; ACT: Average commuting time. \n",
    "\n",
    "**   **\n",
    "**Contact:** &nbsp; Dr Li Wan: lw423@cam.ac.uk; &nbsp; Ms Tianyuan Wang: tw531@cam.ac.uk"
   ]
  },
  {
   "cell_type": "markdown",
   "metadata": {},
   "source": [
    "## 1. MODEL INITIALISATION"
   ]
  },
  {
   "cell_type": "code",
   "execution_count": 1,
   "metadata": {},
   "outputs": [],
   "source": [
    "Project_Name = 'Model_X'\n",
    "\n",
    "# Model Parameters (DO NOT CHANGE)\n",
    "import pandas as pd\n",
    "import numpy as np\n",
    "import settings\n",
    "\n",
    "MaxITN = settings.MaxITN\n",
    "Tol = settings.Tol\n",
    "Status_Mode = settings.Status_Mode\n",
    "Status_EmpPred = settings.Status_EmpPred\n",
    "Status_HrentPred = settings.Status_HrentPred \n",
    "\n",
    "LLCoefIJ = settings.LLCoefIJ\n",
    "D = settings.D\n",
    "Lambda = settings.Lambda\n",
    "LT = settings.LT"
   ]
  },
  {
   "cell_type": "markdown",
   "metadata": {},
   "source": [
    "### Model Variables \n",
    "\n",
    "* Numbers from top to bottom indicate zone 1, 2, 3 respectively. \n",
    "\n",
    "* Left-hand side is high-income group; right-hand side is low-income group. \n",
    "\n",
    "1. Housing Variables:"
   ]
  },
  {
   "cell_type": "code",
   "execution_count": 2,
   "metadata": {},
   "outputs": [],
   "source": [
    "# housing floorspace (Unit: m2) \n",
    "HS = np.array([[10000],\n",
    "               [5000],\n",
    "               [2000]])\n",
    "\n",
    "# business floorspace (Unit: m2)\n",
    "BFS = np.array([[1000],\n",
    "                [1000],\n",
    "                [1000]])\n",
    "\n",
    "# house rent per m2\n",
    "Hrent0 = np.array([[20],\n",
    "                   [20],\n",
    "                   [20]])"
   ]
  },
  {
   "cell_type": "markdown",
   "metadata": {},
   "source": [
    "2. Employment Variables:"
   ]
  },
  {
   "cell_type": "code",
   "execution_count": 3,
   "metadata": {},
   "outputs": [],
   "source": [
    "# total employment by socio-economic classification; input if Status_EmpPred == 1 (Predict emp-residential location pair)\n",
    "EmpSeCTot = np.array([[300,1]]) \n",
    "\n",
    "# employment by socio-economic classification; input if Status_EmpPred == 0 (Predict residential location only)\n",
    "EmpSeC = np.array([[220,1],   \n",
    "                   [60,1],\n",
    "                   [20,1]])"
   ]
  },
  {
   "cell_type": "markdown",
   "metadata": {},
   "source": [
    "3. Travel Time:"
   ]
  },
  {
   "cell_type": "code",
   "execution_count": 4,
   "metadata": {},
   "outputs": [],
   "source": [
    "# travel time from residence place (row) to work place (column) (Unit: minute)\n",
    "Time1 = np.array([[15,45,90],    \n",
    "                  [45,15,45],\n",
    "                  [90,45,15]])"
   ]
  },
  {
   "cell_type": "markdown",
   "metadata": {},
   "source": [
    "4. Other Variables:"
   ]
  },
  {
   "cell_type": "code",
   "execution_count": 5,
   "metadata": {},
   "outputs": [],
   "source": [
    "# annual labour wage at worlplace\n",
    "Wage = np.array([[10000,10000],   \n",
    "                 [10000,10000],\n",
    "                 [10000,10000]])\n",
    "\n",
    "# Share of total income spent on housing\n",
    "HSExpShare = np.array([[0.2,0.2],   \n",
    "                       [0.2,0.2],\n",
    "                       [0.2,0.2]])"
   ]
  },
  {
   "cell_type": "markdown",
   "metadata": {},
   "source": [
    "## 2. MODEL ITERATIONS"
   ]
  },
  {
   "cell_type": "code",
   "execution_count": 6,
   "metadata": {},
   "outputs": [
    {
     "name": "stdout",
     "output_type": "stream",
     "text": [
      "------------------- ZAT file exists - Load ZAT file -----------------\n",
      "--------------------------- Iteration starts ------------------------\n",
      "--------------------- Hrent Converged at ITN = 511 ------------------\n",
      "Elapsed time is: 0.2481 seconds\n"
     ]
    }
   ],
   "source": [
    "from model_iteration_function import model_iteration\n",
    "Output, Hrent, Error, ZAttrIJ, ZAttrI = model_iteration(Tol,Status_HrentPred,Status_Mode,Status_EmpPred,Time1,EmpSeCTot,EmpSeC,HS,BFS,Hrent0,Wage,HSExpShare,MaxITN,LLCoefIJ,D,Lambda,LT)"
   ]
  },
  {
   "cell_type": "markdown",
   "metadata": {},
   "source": [
    "## 3. MODEL OUTPUT"
   ]
  },
  {
   "cell_type": "code",
   "execution_count": 7,
   "metadata": {},
   "outputs": [
    {
     "data": {
      "text/plain": [
       "[['PROJECT NAME: Model_X'],\n",
       " ['DATE: ', Timestamp('2021-10-14 09:54:16.436518')],\n",
       " ['PRECISION: ', 1e-06],\n",
       " ['MODEL MODE: FORECAST'],\n",
       " ['EMPLOTMENT PREDICTION: DISABLED'],\n",
       " ['HOUSE RENTS PREDICTION: ENABLED']]"
      ]
     },
     "execution_count": 7,
     "metadata": {},
     "output_type": "execute_result"
    }
   ],
   "source": [
    "from functions import print_outputs\n",
    "Output_summary = print_outputs (Status_Mode,Status_EmpPred,Status_HrentPred,Output,Hrent,Tol,Project_Name)\n",
    "Output_summary['Metadata']"
   ]
  },
  {
   "cell_type": "code",
   "execution_count": 8,
   "metadata": {
    "tags": []
   },
   "outputs": [
    {
     "data": {
      "text/html": [
       "<div>\n",
       "<style scoped>\n",
       "    .dataframe tbody tr th:only-of-type {\n",
       "        vertical-align: middle;\n",
       "    }\n",
       "\n",
       "    .dataframe tbody tr th {\n",
       "        vertical-align: top;\n",
       "    }\n",
       "\n",
       "    .dataframe thead tr th {\n",
       "        text-align: left;\n",
       "    }\n",
       "</style>\n",
       "<table border=\"1\" class=\"dataframe\">\n",
       "  <thead>\n",
       "    <tr>\n",
       "      <th></th>\n",
       "      <th>House rent</th>\n",
       "      <th colspan=\"2\" halign=\"left\">Employed residents</th>\n",
       "      <th colspan=\"2\" halign=\"left\">Employed workers</th>\n",
       "      <th colspan=\"2\" halign=\"left\">Job opportunity</th>\n",
       "      <th colspan=\"2\" halign=\"left\">Labour catchment</th>\n",
       "      <th colspan=\"2\" halign=\"left\">Average commuting distance</th>\n",
       "      <th colspan=\"2\" halign=\"left\">Average commuting time</th>\n",
       "    </tr>\n",
       "    <tr>\n",
       "      <th></th>\n",
       "      <th></th>\n",
       "      <th>high income</th>\n",
       "      <th>low income</th>\n",
       "      <th>high income</th>\n",
       "      <th>low income</th>\n",
       "      <th>high income</th>\n",
       "      <th>low income</th>\n",
       "      <th>high income</th>\n",
       "      <th>low income</th>\n",
       "      <th>high income</th>\n",
       "      <th>low income</th>\n",
       "      <th>high income</th>\n",
       "      <th>low income</th>\n",
       "    </tr>\n",
       "  </thead>\n",
       "  <tbody>\n",
       "    <tr>\n",
       "      <th>z1</th>\n",
       "      <td>42.955</td>\n",
       "      <td>213.8</td>\n",
       "      <td>1.0</td>\n",
       "      <td>220.0</td>\n",
       "      <td>1.0</td>\n",
       "      <td>0.222</td>\n",
       "      <td>-0.885</td>\n",
       "      <td>0.215</td>\n",
       "      <td>-0.885</td>\n",
       "      <td>17.826</td>\n",
       "      <td>15.365</td>\n",
       "      <td>17.826</td>\n",
       "      <td>15.365</td>\n",
       "    </tr>\n",
       "    <tr>\n",
       "      <th>z2</th>\n",
       "      <td>24.914</td>\n",
       "      <td>61.3</td>\n",
       "      <td>1.0</td>\n",
       "      <td>60.0</td>\n",
       "      <td>1.0</td>\n",
       "      <td>0.038</td>\n",
       "      <td>-0.863</td>\n",
       "      <td>0.040</td>\n",
       "      <td>-0.865</td>\n",
       "      <td>16.765</td>\n",
       "      <td>15.185</td>\n",
       "      <td>16.765</td>\n",
       "      <td>15.185</td>\n",
       "    </tr>\n",
       "    <tr>\n",
       "      <th>z3</th>\n",
       "      <td>25.939</td>\n",
       "      <td>24.9</td>\n",
       "      <td>1.0</td>\n",
       "      <td>20.0</td>\n",
       "      <td>1.0</td>\n",
       "      <td>-0.163</td>\n",
       "      <td>-0.885</td>\n",
       "      <td>-0.145</td>\n",
       "      <td>-0.883</td>\n",
       "      <td>17.826</td>\n",
       "      <td>15.365</td>\n",
       "      <td>17.826</td>\n",
       "      <td>15.365</td>\n",
       "    </tr>\n",
       "  </tbody>\n",
       "</table>\n",
       "</div>"
      ],
      "text/plain": [
       "   House rent Employed residents            Employed workers             \\\n",
       "                     high income low income      high income low income   \n",
       "z1     42.955              213.8        1.0            220.0        1.0   \n",
       "z2     24.914               61.3        1.0             60.0        1.0   \n",
       "z3     25.939               24.9        1.0             20.0        1.0   \n",
       "\n",
       "   Job opportunity            Labour catchment             \\\n",
       "       high income low income      high income low income   \n",
       "z1           0.222     -0.885            0.215     -0.885   \n",
       "z2           0.038     -0.863            0.040     -0.865   \n",
       "z3          -0.163     -0.885           -0.145     -0.883   \n",
       "\n",
       "   Average commuting distance            Average commuting time             \n",
       "                  high income low income            high income low income  \n",
       "z1                     17.826     15.365                 17.826     15.365  \n",
       "z2                     16.765     15.185                 16.765     15.185  \n",
       "z3                     17.826     15.365                 17.826     15.365  "
      ]
     },
     "execution_count": 8,
     "metadata": {},
     "output_type": "execute_result"
    }
   ],
   "source": [
    "Output_summary['T1']"
   ]
  },
  {
   "cell_type": "code",
   "execution_count": 9,
   "metadata": {},
   "outputs": [
    {
     "data": {
      "text/html": [
       "<div>\n",
       "<style scoped>\n",
       "    .dataframe tbody tr th:only-of-type {\n",
       "        vertical-align: middle;\n",
       "    }\n",
       "\n",
       "    .dataframe tbody tr th {\n",
       "        vertical-align: top;\n",
       "    }\n",
       "\n",
       "    .dataframe thead th {\n",
       "        text-align: right;\n",
       "    }\n",
       "</style>\n",
       "<table border=\"1\" class=\"dataframe\">\n",
       "  <thead>\n",
       "    <tr style=\"text-align: right;\">\n",
       "      <th></th>\n",
       "      <th></th>\n",
       "      <th>z1</th>\n",
       "      <th>z2</th>\n",
       "      <th>z3</th>\n",
       "    </tr>\n",
       "  </thead>\n",
       "  <tbody>\n",
       "    <tr>\n",
       "      <th rowspan=\"3\" valign=\"top\">high income</th>\n",
       "      <th>z1</th>\n",
       "      <td>210.2</td>\n",
       "      <td>3.2</td>\n",
       "      <td>0.3</td>\n",
       "    </tr>\n",
       "    <tr>\n",
       "      <th>z2</th>\n",
       "      <td>6.8</td>\n",
       "      <td>53.8</td>\n",
       "      <td>0.7</td>\n",
       "    </tr>\n",
       "    <tr>\n",
       "      <th>z3</th>\n",
       "      <td>3.0</td>\n",
       "      <td>2.9</td>\n",
       "      <td>19.0</td>\n",
       "    </tr>\n",
       "    <tr>\n",
       "      <th rowspan=\"3\" valign=\"top\">low income</th>\n",
       "      <th>z1</th>\n",
       "      <td>1.0</td>\n",
       "      <td>0.0</td>\n",
       "      <td>0.0</td>\n",
       "    </tr>\n",
       "    <tr>\n",
       "      <th>z2</th>\n",
       "      <td>0.0</td>\n",
       "      <td>1.0</td>\n",
       "      <td>0.0</td>\n",
       "    </tr>\n",
       "    <tr>\n",
       "      <th>z3</th>\n",
       "      <td>0.0</td>\n",
       "      <td>0.0</td>\n",
       "      <td>1.0</td>\n",
       "    </tr>\n",
       "    <tr>\n",
       "      <th rowspan=\"3\" valign=\"top\">all</th>\n",
       "      <th>z1</th>\n",
       "      <td>211.2</td>\n",
       "      <td>3.2</td>\n",
       "      <td>0.3</td>\n",
       "    </tr>\n",
       "    <tr>\n",
       "      <th>z2</th>\n",
       "      <td>6.8</td>\n",
       "      <td>54.8</td>\n",
       "      <td>0.7</td>\n",
       "    </tr>\n",
       "    <tr>\n",
       "      <th>z3</th>\n",
       "      <td>3.0</td>\n",
       "      <td>3.0</td>\n",
       "      <td>20.0</td>\n",
       "    </tr>\n",
       "  </tbody>\n",
       "</table>\n",
       "</div>"
      ],
      "text/plain": [
       "                   z1    z2    z3\n",
       "high income z1  210.2   3.2   0.3\n",
       "            z2    6.8  53.8   0.7\n",
       "            z3    3.0   2.9  19.0\n",
       "low income  z1    1.0   0.0   0.0\n",
       "            z2    0.0   1.0   0.0\n",
       "            z3    0.0   0.0   1.0\n",
       "all         z1  211.2   3.2   0.3\n",
       "            z2    6.8  54.8   0.7\n",
       "            z3    3.0   3.0  20.0"
      ]
     },
     "execution_count": 9,
     "metadata": {},
     "output_type": "execute_result"
    }
   ],
   "source": [
    "Output_summary['Commuting_Origin_Destination_Flow']"
   ]
  },
  {
   "cell_type": "code",
   "execution_count": null,
   "metadata": {},
   "outputs": [],
   "source": []
  }
 ],
 "metadata": {
  "kernelspec": {
   "display_name": "Python 3",
   "language": "python",
   "name": "python3"
  },
  "language_info": {
   "codemirror_mode": {
    "name": "ipython",
    "version": 3
   },
   "file_extension": ".py",
   "mimetype": "text/x-python",
   "name": "python",
   "nbconvert_exporter": "python",
   "pygments_lexer": "ipython3",
   "version": "3.7.6"
  },
  "toc": {
   "base_numbering": 1,
   "nav_menu": {},
   "number_sections": false,
   "sideBar": true,
   "skip_h1_title": false,
   "title_cell": "Table of Contents",
   "title_sidebar": "Contents",
   "toc_cell": false,
   "toc_position": {},
   "toc_section_display": true,
   "toc_window_display": false
  }
 },
 "nbformat": 4,
 "nbformat_minor": 4
}
