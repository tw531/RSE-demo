{
 "cells": [
  {
   "cell_type": "markdown",
   "metadata": {},
   "source": [
    "<img align=\"left\" src=\"https://www.cam.ac.uk/sites/www.cam.ac.uk/files/inner-images/logo.jpg\" width=\"300\">"
   ]
  },
  {
   "cell_type": "markdown",
   "metadata": {},
   "source": [
    "## A CITY REGION IN MAKING - DEMO VERSION\n",
    "AUTHOR: DR LI WAN & MS TIANYUAN WANG | UNIVERSITY OF CAMBRIDGE"
   ]
  },
  {
   "cell_type": "markdown",
   "metadata": {},
   "source": [
    "### What is the model? / Description\n",
    "\n",
    "This model is designed to simulate the spatial equilibrium structure in the city.  \n",
    "\n",
    "For simplicity, we assume there are three zones (zone 1, 2, 3) in a city and two groups of people (high income & low income).\n",
    "\n",
    "### How to use it? / Getting Started\n",
    "\n",
    "**Change input:** \n",
    "\n",
    "All the numbers of model varaibles can be changed to whatever you are interested in. Simply click the `>>` button (or, `Kernel` -> `Restart Kernel and Run All Cells`), you can then get your outputs!\n",
    "\n",
    "\n",
    "**Read output:** \n",
    "\n",
    "z1, z2, z3 indicate zone 1, 2, 3 respectively.\n",
    "\n",
    "ER: Employment residents; &nbsp; EW: XXX; &nbsp; JobOpp: XXX;&nbsp;  LabCat: XXX; &nbsp; ACD: XXX; &nbsp; ACT: XXX; \n",
    "\n",
    "&nbsp;  \n",
    "\n",
    "Note: This online interactive webpage is aimed to let users run everything online, so you don't have to download anything and can get outputs immediately. You can also save all your changes to your own local service by clicking `Download` button on the top (or, `File` -> `Download`) (Noted this webpage won't be able to save your changes permanently once you close the window).\n",
    "\n",
    "If you do want to run this model through your own local device, remember to download the whole folder (including all the function files). This model can be run through any Python IDE. \n",
    "\n",
    "\n",
    "Further information for more advanced model can refer to the published paper: <a href=\"https://journals.sagepub.com/doi/10.1177/2399808317732575\" target=\"_blank\"> Wan, L., & Jin, Y. (2019).  Assessment of model validation outcomes of a new recursive spatial equilibrium model for the Greater Beijing </a>.\n",
    "\n",
    "\n",
    "**   **\n",
    "**Contact:** &nbsp; Dr Li Wan: lw423@cam.ac.uk; &nbsp; Ms Tianyuan Wang: tw531@cam.ac.uk"
   ]
  },
  {
   "cell_type": "markdown",
   "metadata": {},
   "source": [
    "## 1. MODEL INITIALISATION"
   ]
  },
  {
   "cell_type": "code",
   "execution_count": 1,
   "metadata": {},
   "outputs": [],
   "source": [
    "Project_Name = 'Model_X'\n",
    "\n",
    "# Model Parameters (DO NOT CHANGE)\n",
    "import pandas as pd\n",
    "import numpy as np\n",
    "import settings\n",
    "\n",
    "MaxITN = settings.MaxITN\n",
    "Tol = settings.Tol\n",
    "Status_Mode = settings.Status_Mode\n",
    "Status_EmpPred = settings.Status_EmpPred\n",
    "Status_HrentPred = settings.Status_HrentPred \n",
    "\n",
    "LLCoefIJ = settings.LLCoefIJ\n",
    "D = settings.D\n",
    "Lambda = settings.Lambda\n",
    "LT = settings.LT"
   ]
  },
  {
   "cell_type": "markdown",
   "metadata": {},
   "source": [
    "### Model Variables \n",
    "\n",
    "* Numbers from top to bottom indicate zone 1, 2, 3 respectively. \n",
    "\n",
    "* Left-hand side is high-income group; right-hand side is low-income group. \n",
    "\n",
    "1. Housing Variables:"
   ]
  },
  {
   "cell_type": "code",
   "execution_count": 2,
   "metadata": {},
   "outputs": [],
   "source": [
    "# housing floorspace (Unit: m2) \n",
    "HS = np.array([[1000],\n",
    "               [1000],\n",
    "               [1000]])\n",
    "\n",
    "# business floorspace (Unit: m2)\n",
    "BFS = np.array([[1000],\n",
    "                [1000],\n",
    "                [1000]])\n",
    "\n",
    "# house rent per m2\n",
    "Hrent0 = np.array([[200],\n",
    "                   [200],\n",
    "                   [200]])"
   ]
  },
  {
   "cell_type": "markdown",
   "metadata": {},
   "source": [
    "2. Employment Variables:"
   ]
  },
  {
   "cell_type": "code",
   "execution_count": 3,
   "metadata": {},
   "outputs": [],
   "source": [
    "# total employment by socio-economic classification; input if Status_EmpPred == 1 (Predict emp-residential location pair)\n",
    "EmpSeCTot = np.array([[300,1]]) \n",
    "\n",
    "# employment by socio-economic classification; input if Status_EmpPred == 0 (Predict residential location only)\n",
    "EmpSeC = np.array([[100,1],   \n",
    "                   [100,1],\n",
    "                   [100,1]])"
   ]
  },
  {
   "cell_type": "markdown",
   "metadata": {},
   "source": [
    "3. Travel Time:"
   ]
  },
  {
   "cell_type": "code",
   "execution_count": 4,
   "metadata": {},
   "outputs": [],
   "source": [
    "# travel time from residence place (row) to work place (column) (Unit: minute)\n",
    "Time1 = np.array([[5,15,30],    \n",
    "                  [15,5,15],\n",
    "                  [30,15,5]])"
   ]
  },
  {
   "cell_type": "markdown",
   "metadata": {},
   "source": [
    "4. Other Variables:"
   ]
  },
  {
   "cell_type": "code",
   "execution_count": 5,
   "metadata": {},
   "outputs": [],
   "source": [
    "# annual labour wage at worlplace\n",
    "Wage = np.array([[10000,10000],   \n",
    "                 [10000,10000],\n",
    "                 [10000,10000]])\n",
    "\n",
    "# Share of total income spent on housing\n",
    "HSExpShare = np.array([[0.2,0.2],   \n",
    "                       [0.2,0.2],\n",
    "                       [0.2,0.2]])"
   ]
  },
  {
   "cell_type": "markdown",
   "metadata": {},
   "source": [
    "## 2. MODEL ITERATIONS"
   ]
  },
  {
   "cell_type": "code",
   "execution_count": 6,
   "metadata": {},
   "outputs": [
    {
     "name": "stdout",
     "output_type": "stream",
     "text": [
      "------------------- ZAT file exists - Load ZAT file -----------------\n",
      "--------------------------- Iteration starts ------------------------\n",
      "--------------------- Hrent Converged at ITN = 2054 ------------------\n",
      "Elapsed time is: 0.9934 seconds\n"
     ]
    }
   ],
   "source": [
    "from model_iteration_function import model_iteration\n",
    "Output, Hrent, Error, ZAttrIJ, ZAttrI = model_iteration(Tol,Status_HrentPred,Status_Mode,Status_EmpPred,Time1,EmpSeCTot,EmpSeC,HS,BFS,Hrent0,Wage,HSExpShare,MaxITN,LLCoefIJ,D,Lambda,LT)"
   ]
  },
  {
   "cell_type": "markdown",
   "metadata": {},
   "source": [
    "## 3. MODEL OUTPUT"
   ]
  },
  {
   "cell_type": "code",
   "execution_count": 7,
   "metadata": {},
   "outputs": [
    {
     "data": {
      "text/plain": [
       "[['PROJECT NAME: Model_X'],\n",
       " ['DATE: ', Timestamp('2021-10-13 18:26:55.122069')],\n",
       " ['PRECISION: ', 1e-06],\n",
       " ['MODEL MODE: FORECAST'],\n",
       " ['EMPLOTMENT PREDICTION: DISABLED'],\n",
       " ['HOUSE RENTS PREDICTION: ENABLED']]"
      ]
     },
     "execution_count": 7,
     "metadata": {},
     "output_type": "execute_result"
    }
   ],
   "source": [
    "from functions import print_outputs\n",
    "Output_summary = print_outputs (Status_Mode,Status_EmpPred,Status_HrentPred,Output,Hrent,Tol,Project_Name)\n",
    "Output_summary['Metadata']"
   ]
  },
  {
   "cell_type": "code",
   "execution_count": 8,
   "metadata": {},
   "outputs": [
    {
     "data": {
      "text/html": [
       "<div>\n",
       "<style scoped>\n",
       "    .dataframe tbody tr th:only-of-type {\n",
       "        vertical-align: middle;\n",
       "    }\n",
       "\n",
       "    .dataframe tbody tr th {\n",
       "        vertical-align: top;\n",
       "    }\n",
       "\n",
       "    .dataframe thead tr th {\n",
       "        text-align: left;\n",
       "    }\n",
       "</style>\n",
       "<table border=\"1\" class=\"dataframe\">\n",
       "  <thead>\n",
       "    <tr>\n",
       "      <th></th>\n",
       "      <th>Hrent</th>\n",
       "      <th colspan=\"2\" halign=\"left\">ER</th>\n",
       "      <th colspan=\"2\" halign=\"left\">EW</th>\n",
       "      <th colspan=\"2\" halign=\"left\">JobOpp</th>\n",
       "      <th colspan=\"2\" halign=\"left\">LabCat</th>\n",
       "      <th colspan=\"2\" halign=\"left\">ACD</th>\n",
       "      <th colspan=\"2\" halign=\"left\">ACT</th>\n",
       "    </tr>\n",
       "    <tr>\n",
       "      <th></th>\n",
       "      <th></th>\n",
       "      <th>high income</th>\n",
       "      <th>low income</th>\n",
       "      <th>high income</th>\n",
       "      <th>low income</th>\n",
       "      <th>high income</th>\n",
       "      <th>low income</th>\n",
       "      <th>high income</th>\n",
       "      <th>low income</th>\n",
       "      <th>high income</th>\n",
       "      <th>low income</th>\n",
       "      <th>high income</th>\n",
       "      <th>low income</th>\n",
       "    </tr>\n",
       "  </thead>\n",
       "  <tbody>\n",
       "    <tr>\n",
       "      <th>z1</th>\n",
       "      <td>213.284</td>\n",
       "      <td>105.6</td>\n",
       "      <td>1.1</td>\n",
       "      <td>100.0</td>\n",
       "      <td>1.0</td>\n",
       "      <td>1.281</td>\n",
       "      <td>-3.324</td>\n",
       "      <td>1.299</td>\n",
       "      <td>-3.306</td>\n",
       "      <td>11.205</td>\n",
       "      <td>11.205</td>\n",
       "      <td>11.205</td>\n",
       "      <td>11.205</td>\n",
       "    </tr>\n",
       "    <tr>\n",
       "      <th>z2</th>\n",
       "      <td>179.431</td>\n",
       "      <td>88.8</td>\n",
       "      <td>0.9</td>\n",
       "      <td>100.0</td>\n",
       "      <td>1.0</td>\n",
       "      <td>1.386</td>\n",
       "      <td>-3.219</td>\n",
       "      <td>1.341</td>\n",
       "      <td>-3.265</td>\n",
       "      <td>8.865</td>\n",
       "      <td>8.865</td>\n",
       "      <td>8.865</td>\n",
       "      <td>8.865</td>\n",
       "    </tr>\n",
       "    <tr>\n",
       "      <th>z3</th>\n",
       "      <td>213.284</td>\n",
       "      <td>105.6</td>\n",
       "      <td>1.1</td>\n",
       "      <td>100.0</td>\n",
       "      <td>1.0</td>\n",
       "      <td>1.281</td>\n",
       "      <td>-3.324</td>\n",
       "      <td>1.299</td>\n",
       "      <td>-3.306</td>\n",
       "      <td>11.205</td>\n",
       "      <td>11.205</td>\n",
       "      <td>11.205</td>\n",
       "      <td>11.205</td>\n",
       "    </tr>\n",
       "  </tbody>\n",
       "</table>\n",
       "</div>"
      ],
      "text/plain": [
       "      Hrent          ER                     EW                 JobOpp  \\\n",
       "            high income low income high income low income high income   \n",
       "z1  213.284       105.6        1.1       100.0        1.0       1.281   \n",
       "z2  179.431        88.8        0.9       100.0        1.0       1.386   \n",
       "z3  213.284       105.6        1.1       100.0        1.0       1.281   \n",
       "\n",
       "                   LabCat                    ACD                    ACT  \\\n",
       "   low income high income low income high income low income high income   \n",
       "z1     -3.324       1.299     -3.306      11.205     11.205      11.205   \n",
       "z2     -3.219       1.341     -3.265       8.865      8.865       8.865   \n",
       "z3     -3.324       1.299     -3.306      11.205     11.205      11.205   \n",
       "\n",
       "               \n",
       "   low income  \n",
       "z1     11.205  \n",
       "z2      8.865  \n",
       "z3     11.205  "
      ]
     },
     "execution_count": 8,
     "metadata": {},
     "output_type": "execute_result"
    }
   ],
   "source": [
    "Output_summary['T1']"
   ]
  },
  {
   "cell_type": "code",
   "execution_count": 9,
   "metadata": {},
   "outputs": [
    {
     "data": {
      "text/html": [
       "<div>\n",
       "<style scoped>\n",
       "    .dataframe tbody tr th:only-of-type {\n",
       "        vertical-align: middle;\n",
       "    }\n",
       "\n",
       "    .dataframe tbody tr th {\n",
       "        vertical-align: top;\n",
       "    }\n",
       "\n",
       "    .dataframe thead th {\n",
       "        text-align: right;\n",
       "    }\n",
       "</style>\n",
       "<table border=\"1\" class=\"dataframe\">\n",
       "  <thead>\n",
       "    <tr style=\"text-align: right;\">\n",
       "      <th></th>\n",
       "      <th></th>\n",
       "      <th>z1</th>\n",
       "      <th>z2</th>\n",
       "      <th>z3</th>\n",
       "    </tr>\n",
       "  </thead>\n",
       "  <tbody>\n",
       "    <tr>\n",
       "      <th rowspan=\"3\" valign=\"top\">high income</th>\n",
       "      <th>z1</th>\n",
       "      <td>65.5</td>\n",
       "      <td>23.7</td>\n",
       "      <td>16.4</td>\n",
       "    </tr>\n",
       "    <tr>\n",
       "      <th>z2</th>\n",
       "      <td>18.1</td>\n",
       "      <td>52.6</td>\n",
       "      <td>18.1</td>\n",
       "    </tr>\n",
       "    <tr>\n",
       "      <th>z3</th>\n",
       "      <td>16.4</td>\n",
       "      <td>23.7</td>\n",
       "      <td>65.5</td>\n",
       "    </tr>\n",
       "    <tr>\n",
       "      <th rowspan=\"3\" valign=\"top\">low income</th>\n",
       "      <th>z1</th>\n",
       "      <td>0.7</td>\n",
       "      <td>0.2</td>\n",
       "      <td>0.2</td>\n",
       "    </tr>\n",
       "    <tr>\n",
       "      <th>z2</th>\n",
       "      <td>0.2</td>\n",
       "      <td>0.5</td>\n",
       "      <td>0.2</td>\n",
       "    </tr>\n",
       "    <tr>\n",
       "      <th>z3</th>\n",
       "      <td>0.2</td>\n",
       "      <td>0.2</td>\n",
       "      <td>0.7</td>\n",
       "    </tr>\n",
       "    <tr>\n",
       "      <th rowspan=\"3\" valign=\"top\">all</th>\n",
       "      <th>z1</th>\n",
       "      <td>66.1</td>\n",
       "      <td>24.0</td>\n",
       "      <td>16.5</td>\n",
       "    </tr>\n",
       "    <tr>\n",
       "      <th>z2</th>\n",
       "      <td>18.3</td>\n",
       "      <td>53.1</td>\n",
       "      <td>18.3</td>\n",
       "    </tr>\n",
       "    <tr>\n",
       "      <th>z3</th>\n",
       "      <td>16.5</td>\n",
       "      <td>24.0</td>\n",
       "      <td>66.1</td>\n",
       "    </tr>\n",
       "  </tbody>\n",
       "</table>\n",
       "</div>"
      ],
      "text/plain": [
       "                  z1    z2    z3\n",
       "high income z1  65.5  23.7  16.4\n",
       "            z2  18.1  52.6  18.1\n",
       "            z3  16.4  23.7  65.5\n",
       "low income  z1   0.7   0.2   0.2\n",
       "            z2   0.2   0.5   0.2\n",
       "            z3   0.2   0.2   0.7\n",
       "all         z1  66.1  24.0  16.5\n",
       "            z2  18.3  53.1  18.3\n",
       "            z3  16.5  24.0  66.1"
      ]
     },
     "execution_count": 9,
     "metadata": {},
     "output_type": "execute_result"
    }
   ],
   "source": [
    "Output_summary['Commuting_Origin_Destination_Flow']"
   ]
  },
  {
   "cell_type": "code",
   "execution_count": null,
   "metadata": {},
   "outputs": [],
   "source": []
  }
 ],
 "metadata": {
  "kernelspec": {
   "display_name": "Python 3",
   "language": "python",
   "name": "python3"
  },
  "language_info": {
   "codemirror_mode": {
    "name": "ipython",
    "version": 3
   },
   "file_extension": ".py",
   "mimetype": "text/x-python",
   "name": "python",
   "nbconvert_exporter": "python",
   "pygments_lexer": "ipython3",
   "version": "3.7.6"
  },
  "toc": {
   "base_numbering": 1,
   "nav_menu": {},
   "number_sections": false,
   "sideBar": true,
   "skip_h1_title": false,
   "title_cell": "Table of Contents",
   "title_sidebar": "Contents",
   "toc_cell": false,
   "toc_position": {},
   "toc_section_display": true,
   "toc_window_display": false
  }
 },
 "nbformat": 4,
 "nbformat_minor": 4
}
